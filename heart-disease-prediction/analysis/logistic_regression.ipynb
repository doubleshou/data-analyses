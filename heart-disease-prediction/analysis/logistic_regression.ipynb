{
 "cells": [
  {
   "cell_type": "markdown",
   "id": "c58e41cc",
   "metadata": {},
   "source": [
    "# Creating a logistic regression model to predict heart disease (CHD, MI)"
   ]
  },
  {
   "cell_type": "markdown",
   "id": "d3a42354",
   "metadata": {},
   "source": [
    "## 1. Import modules and setting parameters"
   ]
  },
  {
   "cell_type": "code",
   "execution_count": 1,
   "id": "c673ba51",
   "metadata": {},
   "outputs": [],
   "source": [
    "import pickle\n",
    "import pandas as pd\n",
    "from imblearn.under_sampling import RandomUnderSampler\n",
    "from sklearn.model_selection import train_test_split\n",
    "from sklearn.metrics import confusion_matrix, classification_report, roc_curve, roc_auc_score\n",
    "from sklearn.linear_model import LogisticRegression\n",
    "import matplotlib.pyplot as plt"
   ]
  },
  {
   "cell_type": "code",
   "execution_count": 2,
   "id": "e9c4e9c7",
   "metadata": {},
   "outputs": [],
   "source": [
    "READ_PATH = \"../data/heart_2020_for_modelling.pkl\"\n",
    "SAVE_PATH = \"../models/logistic_regression.pkl\""
   ]
  },
  {
   "cell_type": "code",
   "execution_count": 3,
   "id": "b3830bda",
   "metadata": {},
   "outputs": [],
   "source": [
    "heart = pd.read_pickle(READ_PATH)"
   ]
  },
  {
   "cell_type": "code",
   "execution_count": 4,
   "id": "597e3c23",
   "metadata": {},
   "outputs": [
    {
     "data": {
      "text/html": [
       "<div>\n",
       "<style scoped>\n",
       "    .dataframe tbody tr th:only-of-type {\n",
       "        vertical-align: middle;\n",
       "    }\n",
       "\n",
       "    .dataframe tbody tr th {\n",
       "        vertical-align: top;\n",
       "    }\n",
       "\n",
       "    .dataframe thead th {\n",
       "        text-align: right;\n",
       "    }\n",
       "</style>\n",
       "<table border=\"1\" class=\"dataframe\">\n",
       "  <thead>\n",
       "    <tr style=\"text-align: right;\">\n",
       "      <th></th>\n",
       "      <th>HeartDisease</th>\n",
       "      <th>BMI</th>\n",
       "      <th>PhysicalHealth</th>\n",
       "      <th>MentalHealth</th>\n",
       "      <th>SleepTime</th>\n",
       "      <th>Smoking_No</th>\n",
       "      <th>Smoking_Yes</th>\n",
       "      <th>AlcoholDrinking_No</th>\n",
       "      <th>AlcoholDrinking_Yes</th>\n",
       "      <th>Stroke_No</th>\n",
       "      <th>...</th>\n",
       "      <th>GenHealth_Fair</th>\n",
       "      <th>GenHealth_Good</th>\n",
       "      <th>GenHealth_Poor</th>\n",
       "      <th>GenHealth_Very good</th>\n",
       "      <th>Asthma_No</th>\n",
       "      <th>Asthma_Yes</th>\n",
       "      <th>KidneyDisease_No</th>\n",
       "      <th>KidneyDisease_Yes</th>\n",
       "      <th>SkinCancer_No</th>\n",
       "      <th>SkinCancer_Yes</th>\n",
       "    </tr>\n",
       "  </thead>\n",
       "  <tbody>\n",
       "    <tr>\n",
       "      <th>0</th>\n",
       "      <td>0</td>\n",
       "      <td>16.60</td>\n",
       "      <td>3.0</td>\n",
       "      <td>30.0</td>\n",
       "      <td>5.0</td>\n",
       "      <td>0</td>\n",
       "      <td>1</td>\n",
       "      <td>1</td>\n",
       "      <td>0</td>\n",
       "      <td>1</td>\n",
       "      <td>...</td>\n",
       "      <td>0</td>\n",
       "      <td>0</td>\n",
       "      <td>0</td>\n",
       "      <td>1</td>\n",
       "      <td>0</td>\n",
       "      <td>1</td>\n",
       "      <td>1</td>\n",
       "      <td>0</td>\n",
       "      <td>0</td>\n",
       "      <td>1</td>\n",
       "    </tr>\n",
       "    <tr>\n",
       "      <th>1</th>\n",
       "      <td>0</td>\n",
       "      <td>20.34</td>\n",
       "      <td>0.0</td>\n",
       "      <td>0.0</td>\n",
       "      <td>7.0</td>\n",
       "      <td>1</td>\n",
       "      <td>0</td>\n",
       "      <td>1</td>\n",
       "      <td>0</td>\n",
       "      <td>0</td>\n",
       "      <td>...</td>\n",
       "      <td>0</td>\n",
       "      <td>0</td>\n",
       "      <td>0</td>\n",
       "      <td>1</td>\n",
       "      <td>1</td>\n",
       "      <td>0</td>\n",
       "      <td>1</td>\n",
       "      <td>0</td>\n",
       "      <td>1</td>\n",
       "      <td>0</td>\n",
       "    </tr>\n",
       "    <tr>\n",
       "      <th>2</th>\n",
       "      <td>0</td>\n",
       "      <td>26.58</td>\n",
       "      <td>20.0</td>\n",
       "      <td>30.0</td>\n",
       "      <td>8.0</td>\n",
       "      <td>0</td>\n",
       "      <td>1</td>\n",
       "      <td>1</td>\n",
       "      <td>0</td>\n",
       "      <td>1</td>\n",
       "      <td>...</td>\n",
       "      <td>1</td>\n",
       "      <td>0</td>\n",
       "      <td>0</td>\n",
       "      <td>0</td>\n",
       "      <td>0</td>\n",
       "      <td>1</td>\n",
       "      <td>1</td>\n",
       "      <td>0</td>\n",
       "      <td>1</td>\n",
       "      <td>0</td>\n",
       "    </tr>\n",
       "    <tr>\n",
       "      <th>3</th>\n",
       "      <td>0</td>\n",
       "      <td>24.21</td>\n",
       "      <td>0.0</td>\n",
       "      <td>0.0</td>\n",
       "      <td>6.0</td>\n",
       "      <td>1</td>\n",
       "      <td>0</td>\n",
       "      <td>1</td>\n",
       "      <td>0</td>\n",
       "      <td>1</td>\n",
       "      <td>...</td>\n",
       "      <td>0</td>\n",
       "      <td>1</td>\n",
       "      <td>0</td>\n",
       "      <td>0</td>\n",
       "      <td>1</td>\n",
       "      <td>0</td>\n",
       "      <td>1</td>\n",
       "      <td>0</td>\n",
       "      <td>0</td>\n",
       "      <td>1</td>\n",
       "    </tr>\n",
       "    <tr>\n",
       "      <th>4</th>\n",
       "      <td>0</td>\n",
       "      <td>23.71</td>\n",
       "      <td>28.0</td>\n",
       "      <td>0.0</td>\n",
       "      <td>8.0</td>\n",
       "      <td>1</td>\n",
       "      <td>0</td>\n",
       "      <td>1</td>\n",
       "      <td>0</td>\n",
       "      <td>1</td>\n",
       "      <td>...</td>\n",
       "      <td>0</td>\n",
       "      <td>0</td>\n",
       "      <td>0</td>\n",
       "      <td>1</td>\n",
       "      <td>1</td>\n",
       "      <td>0</td>\n",
       "      <td>1</td>\n",
       "      <td>0</td>\n",
       "      <td>1</td>\n",
       "      <td>0</td>\n",
       "    </tr>\n",
       "  </tbody>\n",
       "</table>\n",
       "<p>5 rows × 51 columns</p>\n",
       "</div>"
      ],
      "text/plain": [
       "   HeartDisease    BMI  PhysicalHealth  MentalHealth  SleepTime  Smoking_No  \\\n",
       "0             0  16.60             3.0          30.0        5.0           0   \n",
       "1             0  20.34             0.0           0.0        7.0           1   \n",
       "2             0  26.58            20.0          30.0        8.0           0   \n",
       "3             0  24.21             0.0           0.0        6.0           1   \n",
       "4             0  23.71            28.0           0.0        8.0           1   \n",
       "\n",
       "   Smoking_Yes  AlcoholDrinking_No  AlcoholDrinking_Yes  Stroke_No  ...  \\\n",
       "0            1                   1                    0          1  ...   \n",
       "1            0                   1                    0          0  ...   \n",
       "2            1                   1                    0          1  ...   \n",
       "3            0                   1                    0          1  ...   \n",
       "4            0                   1                    0          1  ...   \n",
       "\n",
       "   GenHealth_Fair  GenHealth_Good  GenHealth_Poor  GenHealth_Very good  \\\n",
       "0               0               0               0                    1   \n",
       "1               0               0               0                    1   \n",
       "2               1               0               0                    0   \n",
       "3               0               1               0                    0   \n",
       "4               0               0               0                    1   \n",
       "\n",
       "   Asthma_No  Asthma_Yes  KidneyDisease_No  KidneyDisease_Yes  SkinCancer_No  \\\n",
       "0          0           1                 1                  0              0   \n",
       "1          1           0                 1                  0              1   \n",
       "2          0           1                 1                  0              1   \n",
       "3          1           0                 1                  0              0   \n",
       "4          1           0                 1                  0              1   \n",
       "\n",
       "   SkinCancer_Yes  \n",
       "0               1  \n",
       "1               0  \n",
       "2               0  \n",
       "3               1  \n",
       "4               0  \n",
       "\n",
       "[5 rows x 51 columns]"
      ]
     },
     "execution_count": 4,
     "metadata": {},
     "output_type": "execute_result"
    }
   ],
   "source": [
    "heart.head()"
   ]
  },
  {
   "cell_type": "code",
   "execution_count": 5,
   "id": "3ad6bd5a",
   "metadata": {},
   "outputs": [],
   "source": [
    "y = heart[\"HeartDisease\"]\n",
    "X = heart.drop(\"HeartDisease\", axis=1)"
   ]
  },
  {
   "cell_type": "code",
   "execution_count": 6,
   "id": "9ed7cc83",
   "metadata": {},
   "outputs": [],
   "source": [
    "def model_eval(model, X_test, y_test):\n",
    "    assert len(X_test) == len(y_test), \"X_test and y_test are not equal in size.\"\n",
    "    \n",
    "    y_pred = model.predict(X_test)\n",
    "    y_pred_prob = model.predict_proba(X_test)[::, 1]\n",
    "    print(confusion_matrix(y_test, y_pred))\n",
    "    print(classification_report(y_pred, y_test))\n",
    "    \n",
    "    fpr, tpr, _ = roc_curve(y_test, y_pred_prob)\n",
    "    auc = roc_auc_score(y_test, y_pred_prob)\n",
    "    plt.plot(fpr, tpr, label=f'AUC: {round(auc, 3)}')\n",
    "    plt.legend()\n",
    "    plt.show()"
   ]
  },
  {
   "cell_type": "markdown",
   "id": "d39b6cfe",
   "metadata": {},
   "source": [
    "## 2. Creating the model"
   ]
  },
  {
   "cell_type": "markdown",
   "id": "7f3103e4",
   "metadata": {},
   "source": [
    "### 2.1 Using the default parameters"
   ]
  },
  {
   "cell_type": "code",
   "execution_count": 7,
   "id": "f1cdf672",
   "metadata": {},
   "outputs": [],
   "source": [
    "X_train, X_test, y_train, y_test = train_test_split(X, y, test_size=0.2, random_state=2022)"
   ]
  },
  {
   "cell_type": "code",
   "execution_count": 8,
   "id": "99552e42",
   "metadata": {},
   "outputs": [
    {
     "name": "stderr",
     "output_type": "stream",
     "text": [
      "D:\\anaconda3\\envs\\heart-disease-prediction\\lib\\site-packages\\sklearn\\linear_model\\_logistic.py:814: ConvergenceWarning: lbfgs failed to converge (status=1):\n",
      "STOP: TOTAL NO. of ITERATIONS REACHED LIMIT.\n",
      "\n",
      "Increase the number of iterations (max_iter) or scale the data as shown in:\n",
      "    https://scikit-learn.org/stable/modules/preprocessing.html\n",
      "Please also refer to the documentation for alternative solver options:\n",
      "    https://scikit-learn.org/stable/modules/linear_model.html#logistic-regression\n",
      "  n_iter_i = _check_optimize_result(\n"
     ]
    },
    {
     "data": {
      "text/plain": [
       "LogisticRegression()"
      ]
     },
     "execution_count": 8,
     "metadata": {},
     "output_type": "execute_result"
    }
   ],
   "source": [
    "log_model = LogisticRegression()\n",
    "log_model.fit(X_train, y_train)"
   ]
  },
  {
   "cell_type": "code",
   "execution_count": 9,
   "id": "a2922593",
   "metadata": {},
   "outputs": [
    {
     "name": "stdout",
     "output_type": "stream",
     "text": [
      "[[58106   495]\n",
      " [ 4793   565]]\n",
      "              precision    recall  f1-score   support\n",
      "\n",
      "           0       0.99      0.92      0.96     62899\n",
      "           1       0.11      0.53      0.18      1060\n",
      "\n",
      "    accuracy                           0.92     63959\n",
      "   macro avg       0.55      0.73      0.57     63959\n",
      "weighted avg       0.98      0.92      0.94     63959\n",
      "\n"
     ]
    },
    {
     "data": {
      "image/png": "[encoded data removed]",
      "text/plain": [
       "<Figure size 432x288 with 1 Axes>"
      ]
     },
     "metadata": {
      "needs_background": "light"
     },
     "output_type": "display_data"
    }
   ],
   "source": [
    "model_eval(log_model, X_test, y_test)"
   ]
  },
  {
   "cell_type": "markdown",
   "id": "be592846",
   "metadata": {},
   "source": [
    "### 2.2 Using balanced weights"
   ]
  },
  {
   "cell_type": "code",
   "execution_count": 10,
   "id": "c1d7c875",
   "metadata": {},
   "outputs": [
    {
     "data": {
      "text/plain": [
       "LogisticRegression(class_weight='balanced', max_iter=500)"
      ]
     },
     "execution_count": 10,
     "metadata": {},
     "output_type": "execute_result"
    }
   ],
   "source": [
    "log_model_bal = LogisticRegression(max_iter=500, class_weight=\"balanced\")\n",
    "log_model_bal.fit(X_train, y_train)"
   ]
  },
  {
   "cell_type": "code",
   "execution_count": 11,
   "id": "299bc818",
   "metadata": {},
   "outputs": [
    {
     "name": "stdout",
     "output_type": "stream",
     "text": [
      "[[43693 14908]\n",
      " [ 1171  4187]]\n",
      "              precision    recall  f1-score   support\n",
      "\n",
      "           0       0.75      0.97      0.84     44864\n",
      "           1       0.78      0.22      0.34     19095\n",
      "\n",
      "    accuracy                           0.75     63959\n",
      "   macro avg       0.76      0.60      0.59     63959\n",
      "weighted avg       0.76      0.75      0.69     63959\n",
      "\n"
     ]
    },
    {
     "data": {
      "image/png": "[encoded data removed]",
      "text/plain": [
       "<Figure size 432x288 with 1 Axes>"
      ]
     },
     "metadata": {
      "needs_background": "light"
     },
     "output_type": "display_data"
    }
   ],
   "source": [
    "model_eval(log_model_bal, X_test, y_test)"
   ]
  },
  {
   "cell_type": "markdown",
   "id": "ca140539",
   "metadata": {},
   "source": [
    "### 2.3 Using the undersampling technique"
   ]
  },
  {
   "cell_type": "code",
   "execution_count": 12,
   "id": "c3a4a6d7",
   "metadata": {},
   "outputs": [],
   "source": [
    "undersample = RandomUnderSampler(sampling_strategy=\"majority\")"
   ]
  },
  {
   "cell_type": "code",
   "execution_count": 13,
   "id": "66b83be1",
   "metadata": {},
   "outputs": [],
   "source": [
    "X_over, y_over = undersample.fit_resample(X, y)"
   ]
  },
  {
   "cell_type": "code",
   "execution_count": 14,
   "id": "f3b0cc75",
   "metadata": {},
   "outputs": [],
   "source": [
    "X_train, X_test, y_train, y_test = train_test_split(X_over, y_over, test_size=0.2, random_state=2022)"
   ]
  },
  {
   "cell_type": "code",
   "execution_count": 15,
   "id": "87eeb5ea",
   "metadata": {},
   "outputs": [
    {
     "data": {
      "text/plain": [
       "LogisticRegression(max_iter=500)"
      ]
     },
     "execution_count": 15,
     "metadata": {},
     "output_type": "execute_result"
    }
   ],
   "source": [
    "log_model_us = LogisticRegression(max_iter=500)\n",
    "log_model_us.fit(X_train, y_train)"
   ]
  },
  {
   "cell_type": "code",
   "execution_count": 16,
   "id": "ed26e201",
   "metadata": {},
   "outputs": [
    {
     "name": "stdout",
     "output_type": "stream",
     "text": [
      "[[4092 1391]\n",
      " [1204 4263]]\n",
      "              precision    recall  f1-score   support\n",
      "\n",
      "           0       0.75      0.77      0.76      5296\n",
      "           1       0.78      0.75      0.77      5654\n",
      "\n",
      "    accuracy                           0.76     10950\n",
      "   macro avg       0.76      0.76      0.76     10950\n",
      "weighted avg       0.76      0.76      0.76     10950\n",
      "\n"
     ]
    },
    {
     "data": {
      "image/png": "[encoded data removed]",
      "text/plain": [
       "<Figure size 432x288 with 1 Axes>"
      ]
     },
     "metadata": {
      "needs_background": "light"
     },
     "output_type": "display_data"
    }
   ],
   "source": [
    "model_eval(log_model_us, X_test, y_test)"
   ]
  },
  {
   "cell_type": "markdown",
   "id": "41d86fcc",
   "metadata": {},
   "source": [
    "## 3. Results and saving the final model"
   ]
  },
  {
   "cell_type": "code",
   "execution_count": 17,
   "id": "c4d00e43",
   "metadata": {},
   "outputs": [],
   "source": [
    "with open(SAVE_PATH, \"wb\") as pickle_out:\n",
    "    pickle.dump(log_model_us, pickle_out)"
   ]
  }
 ],
 "metadata": {
  "kernelspec": {
   "display_name": "heart-disease-prediction",
   "language": "python",
   "name": "heart-disease-prediction"
  },
  "language_info": {
   "codemirror_mode": {
    "name": "ipython",
    "version": 3
   },
   "file_extension": ".py",
   "mimetype": "text/x-python",
   "name": "python",
   "nbconvert_exporter": "python",
   "pygments_lexer": "ipython3",
   "version": "3.9.7"
  }
 },
 "nbformat": 4,
 "nbformat_minor": 5
}
