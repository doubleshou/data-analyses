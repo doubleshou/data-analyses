{
 "cells": [
  {
   "cell_type": "markdown",
   "id": "7ca89784",
   "metadata": {},
   "source": [
    "# Data processing of 2020 annual survey data from the CDC"
   ]
  },
  {
   "cell_type": "markdown",
   "id": "e31ab3b0",
   "metadata": {},
   "source": [
    "## Import modules"
   ]
  },
  {
   "cell_type": "markdown",
   "id": "92a7387d",
   "metadata": {},
   "source": [
    "Firstly, I load the modules and define the constant variables (the path to read the original file and write the cleared one)."
   ]
  },
  {
   "cell_type": "code",
   "execution_count": 1,
   "id": "8c9216aa",
   "metadata": {},
   "outputs": [],
   "source": [
    "import polars as pl\n",
    "import pandas as pd\n",
    "import numpy as np\n",
    "import matplotlib.pyplot as plt\n",
    "import seaborn as sns"
   ]
  },
  {
   "cell_type": "code",
   "execution_count": 2,
   "id": "d91117fb",
   "metadata": {},
   "outputs": [],
   "source": [
    "READ_PATH = \"heart_2020.csv\"\n",
    "WRITE_PATH = \"heart_2020_cleaned.csv\""
   ]
  },
  {
   "cell_type": "markdown",
   "id": "a0ece642",
   "metadata": {},
   "source": [
    "I then test the read times of the dataset using methods from the pandas and polars modules. pandas is not efficient when loading and performing operations on large data sets. An alternative here is polars using the Apache Arrow Columnar Format approach. polars is used to load the dataset. However, this dataset is not so large that cleaning operations take a long time, so pandas will be used to organize it."
   ]
  },
  {
   "cell_type": "code",
   "execution_count": null,
   "id": "829aaa4b",
   "metadata": {},
   "outputs": [],
   "source": [
    "%timeit pd.read_csv(READ_PATH)"
   ]
  },
  {
   "cell_type": "code",
   "execution_count": null,
   "id": "f45662c0",
   "metadata": {},
   "outputs": [],
   "source": [
    "%timeit pl.read_csv(READ_PATH)"
   ]
  },
  {
   "cell_type": "code",
   "execution_count": 3,
   "id": "0529c7ba",
   "metadata": {},
   "outputs": [],
   "source": [
    "heart = pl.read_csv(READ_PATH, null_values=\"\")\n",
    "heart = heart.to_pandas()"
   ]
  },
  {
   "cell_type": "markdown",
   "id": "9b5ea127",
   "metadata": {},
   "source": [
    "The dataset contains 401,958 rows and 279 columns (variables). [This link](https://www.cdc.gov/brfss/annual_data/2020/pdf/codebook20_llcp-v2-508.pdf) contains information about all of its variables. As we can see, some of it is information completely useless in the analysis of heart disease (Interview Month), and some of it, although it contains some information about the respondent's health, most likely does not affect the disease itself (What is his or her relationship to you?)."
   ]
  },
  {
   "cell_type": "code",
   "execution_count": null,
   "id": "0d1eea15",
   "metadata": {},
   "outputs": [],
   "source": [
    "heart.head()"
   ]
  },
  {
   "cell_type": "code",
   "execution_count": null,
   "id": "b0f1c9b5",
   "metadata": {},
   "outputs": [],
   "source": [
    "heart.info()"
   ]
  },
  {
   "cell_type": "markdown",
   "id": "c914e312",
   "metadata": {},
   "source": [
    "According to the [CDC](https://www.cdc.gov/heartdisease/risk_factors.htm), there are several key factors that overwhelminghly influence the likelihood of heart disease. They write: *About half of all Americans (47%) have at least 1 of 3 key risk factors for heart disease: high blood pressure, high cholesterol, and smoking.*. Majore health factors include the following:\n",
    "*  high blood pressure,\n",
    "*  high blood cholesterol levels,\n",
    "*  diabetes mellitus,\n",
    "*  obesity.\n",
    "\n",
    "Heart disease also depends on habits and behaviors. Here, the CDC lists the following:\n",
    "*  eating a diet high in saturated fats, trans fat, and cholesterol,\n",
    "*  not getting enough physical activity,\n",
    "*  drinking too much alcohol,\n",
    "*  tobacco use,\n",
    "\n",
    "Also, the higher the age, the risk of the disease increases. It predominates in most ethnic groups (African Americans, American Indians and Alaska Natives), while in others it gives way to cancer (Asian Americans and Pacific Islanders and Hispanics)."
   ]
  },
  {
   "cell_type": "markdown",
   "id": "64478bb9",
   "metadata": {},
   "source": [
    "According to the aforementioned information, variables were isolated from the dataset first, whose scientific confirmation attests to a high impact on heart disease. After these were extracted and converted, other variables that do not have a leading effect on heart disease but may indirectly lead to it were included in the final dataset."
   ]
  },
  {
   "cell_type": "markdown",
   "id": "01b14709",
   "metadata": {},
   "source": [
    "**Dependent variable**:\n",
    "*  **_MICHD** - Respondents that have ever reported having coronary heart disease (CHD) or myocardial infarction (MI);\n",
    "\n",
    "**Independent variables**:\n",
    "*  **_BMI5** - Body Mass Index (BMI);\n",
    "*  **SMOKE100** - Have you smoked at least 100 cigarettes in your entire life? [Note: 5 packs = 100 cigarettes];\n",
    "*  **_RFDRHV7** - Heavy drinkers (adult men having more than 14 drinks per week and adult women having more than 7 drinks per week);\n",
    "* **CVDSTRK3** - (Ever told) (you had) a stroke;\n",
    "* **PHYSHLTH** - Now thinking about your physical health, which includes physical illness and injury, for how many days during the past 30 days was your physical health not good?;\n",
    "* **MENTHLTH** - Now thinking about your mental health, which includes stress, depression, and problems with emotions, for how many days during the past 30 days was your mental health not good?;\n",
    "* **DIFFWALK** - Do you have serious difficulty walking or climbing stairs?;\n",
    "* **SEXVAR** - Are you male or female?;\n",
    "* **_AGEG5YR** - Fourteen-level age category;\n",
    "* **_IMPRACE** - Imputed race/ethnicity value (This value is the reported race/ethnicity or an imputed race/ethnicity, if the respondent refused to give a race/ethnicity. The value of the imputed race/ethnicity will be the most common race/ethnicity response for that region of the state) 7;\n",
    "* **DIABETE4** - (Ever told) (you had) diabetes? (If ´Yes´ and respondent is female, ask ´Was this only when you were pregnant?´. If Respondent says pre-diabetes or borderline diabetes, use response code 4.);\n",
    "* **_TOTINDA** - Adults who reported doing physical activity or exercise during the past 30 days other than their regular job;\n",
    "* **GENHLTH** - Would you say that in general your health is;\n",
    "* **SLEPTIM1** - On average, how many hours of sleep do you get in a 24-hour period?;\n",
    "* **ASTHMA3** - (Ever told) (you had) asthma?;\n",
    "* **CHCKDNY2** - Not including kidney stones, bladder infection or incontinence, were you ever told you had kidney disease?;\n",
    "* **CHCSCNCR** - (Ever told) (you had) skin cancer?"
   ]
  },
  {
   "cell_type": "code",
   "execution_count": 35,
   "id": "9623126a",
   "metadata": {},
   "outputs": [],
   "source": [
    "used_vars = [\"_MICHD\", \"_BMI5CAT\", \"SMOKE100\", \"_RFDRHV7\", \"CVDSTRK3\", \"PHYSHLTH\",\n",
    "             \"MENTHLTH\", \"DIFFWALK\", \"SEXVAR\", \"_AGEG5YR\", \"_IMPRACE\", \"DIABETE4\",\n",
    "            \"_TOTINDA\", \"GENHLTH\", \"SLEPTIM1\", \"ASTHMA3\", \"CHCKDNY2\", \"CHCSCNCR\"]\n",
    "\n",
    "heart_final = heart[used_vars].copy()"
   ]
  },
  {
   "cell_type": "code",
   "execution_count": 36,
   "id": "13786f7a",
   "metadata": {},
   "outputs": [],
   "source": [
    "heart_final[\"_MICHD\"] = heart_final[\"_MICHD\"].replace({2: \"No\", 1: \"Yes\"})\n",
    "\n",
    "heart_final[\"_BMI5CAT\"] = heart_final[\"_BMI5CAT\"].replace({\n",
    "    1: \"Underweight (BMI < 18.5)\",\n",
    "    2: \"Normal weight (18.5 <= BMI < 25.0)\",\n",
    "    3: \"Overweight (25.0 <= BMI < 30.0)\",\n",
    "    4: \"Obese (30.0 <= BMI < +Inf)\"\n",
    "})\n",
    "\n",
    "binary_vars = [\"SMOKE100\", \"CVDSTRK3\", \"DIFFWALK\", \"_TOTINDA\", \"ASTHMA3\", \"CHCKDNY2\", \"CHCSCNCR\"]\n",
    "heart_final[binary_vars] = heart_final[binary_vars].replace({\n",
    "    1: \"Yes\",\n",
    "    2: \"No\",\n",
    "    7: np.NaN,\n",
    "    9: np.NaN\n",
    "})\n",
    "\n",
    "heart_final[\"_RFDRHV7\"] = heart_final[\"_RFDRHV7\"].replace({\n",
    "    1: \"No\",\n",
    "    2: \"Yes\",\n",
    "    9: np.NaN\n",
    "})\n",
    "\n",
    "multi_vars = [\"PHYSHLTH\", \"MENTHLTH\"]\n",
    "heart_final[multi_vars] = heart_final[multi_vars].replace({\n",
    "    88: 0,\n",
    "    77: np.NaN,\n",
    "    99: np.NaN\n",
    "})\n",
    "\n",
    "heart_final[\"SEXVAR\"] = heart_final[\"SEXVAR\"].replace({1: \"Male\", 2: \"Female\"})\n",
    "\n",
    "heart_final[\"_AGEG5YR\"] = heart_final[\"_AGEG5YR\"].replace({\n",
    "    1: \"18-24\",\n",
    "    2: \"25-29\",\n",
    "    3: \"30-34\",\n",
    "    4: \"35-39\",\n",
    "    5: \"40-44\",\n",
    "    6: \"45-49\",\n",
    "    7: \"50-54\",\n",
    "    8: \"55-59\",\n",
    "    9: \"60-64\",\n",
    "    10: \"65-69\",\n",
    "    11: \"70-74\",\n",
    "    12: \"75-79\",\n",
    "    13: \"80 or older\",\n",
    "    14: np.NaN\n",
    "})\n",
    "\n",
    "heart_final[\"_IMPRACE\"] = heart_final[\"_IMPRACE\"].replace({\n",
    "    1: \"White\",\n",
    "    2: \"Black\",\n",
    "    3: \"Asian\",\n",
    "    4: \"American Indian/Alaskan Native\",\n",
    "    5: \"Hispanic\",\n",
    "    6: \"Other\"\n",
    "})\n",
    "\n",
    "heart_final[\"DIABETE4\"] = heart_final[\"DIABETE4\"].replace({\n",
    "    1: \"Yes\",\n",
    "    2: \"Yes (during pregnancy)\",\n",
    "    3: \"No\",\n",
    "    4: \"No, borderline diabetes\",\n",
    "    7: np.NaN,\n",
    "    9: np.NaN\n",
    "})\n",
    "\n",
    "heart_final[\"GENHLTH\"] = heart_final[\"GENHLTH\"].replace({\n",
    "    1: \"Excellent\",\n",
    "    2: \"Very good\",\n",
    "    3: \"Good\",\n",
    "    4: \"Fair\",\n",
    "    5: \"Poor\",\n",
    "    7: np.NaN,\n",
    "    9: np.NaN\n",
    "})\n",
    "\n",
    "heart_final[\"SLEPTIM1\"] = heart_final[\"SLEPTIM1\"].replace({\n",
    "    77: np.NaN,\n",
    "    99: np.NaN\n",
    "})"
   ]
  },
  {
   "cell_type": "code",
   "execution_count": 37,
   "id": "a682f863",
   "metadata": {},
   "outputs": [],
   "source": [
    "heart_final = heart_final.dropna()"
   ]
  },
  {
   "cell_type": "code",
   "execution_count": 38,
   "id": "5b9b6493",
   "metadata": {},
   "outputs": [],
   "source": [
    "heart_final = heart_final.rename({\n",
    "    \"_MICHD\": \"HeartDisease\",\n",
    "    \"_BMI5CAT\": \"BMICategory\",\n",
    "    \"SMOKE100\": \"Smoking\",\n",
    "    \"_RFDRHV7\": \"AlcoholDrinking\",\n",
    "    \"CVDSTRK3\": \"Stroke\",\n",
    "    \"PHYSHLTH\": \"PhysicalHealth\",\n",
    "    \"MENTHLTH\": \"MentalHealth\",\n",
    "    \"DIFFWALK\": \"DiffWalking\",\n",
    "    \"SEXVAR\": \"Sex\",\n",
    "    \"_AGEG5YR\": \"AgeCategory\",\n",
    "    \"_IMPRACE\": \"Race\",\n",
    "    \"DIABETE4\": \"Diabetic\",\n",
    "    \"_TOTINDA\": \"PhysicalActivity\",\n",
    "    \"GENHLTH\": \"GenHealth\",\n",
    "    \"SLEPTIM1\": \"SleepTime\",\n",
    "    \"ASTHMA3\": \"Asthma\",\n",
    "    \"CHCKDNY2\": \"KidneyDisease\",\n",
    "    \"CHCSCNCR\": \"SkinCancer\"\n",
    "    \n",
    "}, axis=1)"
   ]
  },
  {
   "cell_type": "code",
   "execution_count": 42,
   "id": "c6851b09",
   "metadata": {},
   "outputs": [
    {
     "data": {
      "text/html": [
       "<div>\n",
       "<style scoped>\n",
       "    .dataframe tbody tr th:only-of-type {\n",
       "        vertical-align: middle;\n",
       "    }\n",
       "\n",
       "    .dataframe tbody tr th {\n",
       "        vertical-align: top;\n",
       "    }\n",
       "\n",
       "    .dataframe thead th {\n",
       "        text-align: right;\n",
       "    }\n",
       "</style>\n",
       "<table border=\"1\" class=\"dataframe\">\n",
       "  <thead>\n",
       "    <tr style=\"text-align: right;\">\n",
       "      <th></th>\n",
       "      <th>HeartDisease</th>\n",
       "      <th>BMICategory</th>\n",
       "      <th>Smoking</th>\n",
       "      <th>AlcoholDrinking</th>\n",
       "      <th>Stroke</th>\n",
       "      <th>PhysicalHealth</th>\n",
       "      <th>MentalHealth</th>\n",
       "      <th>DiffWalking</th>\n",
       "      <th>Sex</th>\n",
       "      <th>AgeCategory</th>\n",
       "      <th>Race</th>\n",
       "      <th>Diabetic</th>\n",
       "      <th>PhysicalActivity</th>\n",
       "      <th>GenHealth</th>\n",
       "      <th>SleepTime</th>\n",
       "      <th>Asthma</th>\n",
       "      <th>KidneyDisease</th>\n",
       "      <th>SkinCancer</th>\n",
       "    </tr>\n",
       "  </thead>\n",
       "  <tbody>\n",
       "    <tr>\n",
       "      <th>0</th>\n",
       "      <td>No</td>\n",
       "      <td>Underweight (BMI &lt; 18.5)</td>\n",
       "      <td>Yes</td>\n",
       "      <td>No</td>\n",
       "      <td>No</td>\n",
       "      <td>3.0</td>\n",
       "      <td>30.0</td>\n",
       "      <td>No</td>\n",
       "      <td>Female</td>\n",
       "      <td>55-59</td>\n",
       "      <td>White</td>\n",
       "      <td>Yes</td>\n",
       "      <td>Yes</td>\n",
       "      <td>Very good</td>\n",
       "      <td>5.0</td>\n",
       "      <td>Yes</td>\n",
       "      <td>No</td>\n",
       "      <td>Yes</td>\n",
       "    </tr>\n",
       "    <tr>\n",
       "      <th>4</th>\n",
       "      <td>No</td>\n",
       "      <td>Normal weight (18.5 &lt;= BMI &lt; 25.0)</td>\n",
       "      <td>No</td>\n",
       "      <td>No</td>\n",
       "      <td>Yes</td>\n",
       "      <td>0.0</td>\n",
       "      <td>0.0</td>\n",
       "      <td>No</td>\n",
       "      <td>Female</td>\n",
       "      <td>80 or older</td>\n",
       "      <td>White</td>\n",
       "      <td>No</td>\n",
       "      <td>Yes</td>\n",
       "      <td>Very good</td>\n",
       "      <td>7.0</td>\n",
       "      <td>No</td>\n",
       "      <td>No</td>\n",
       "      <td>No</td>\n",
       "    </tr>\n",
       "    <tr>\n",
       "      <th>5</th>\n",
       "      <td>No</td>\n",
       "      <td>Overweight (25.0 &lt;= BMI &lt; 30.0)</td>\n",
       "      <td>Yes</td>\n",
       "      <td>No</td>\n",
       "      <td>No</td>\n",
       "      <td>20.0</td>\n",
       "      <td>30.0</td>\n",
       "      <td>No</td>\n",
       "      <td>Male</td>\n",
       "      <td>65-69</td>\n",
       "      <td>White</td>\n",
       "      <td>Yes</td>\n",
       "      <td>Yes</td>\n",
       "      <td>Fair</td>\n",
       "      <td>8.0</td>\n",
       "      <td>Yes</td>\n",
       "      <td>No</td>\n",
       "      <td>No</td>\n",
       "    </tr>\n",
       "    <tr>\n",
       "      <th>6</th>\n",
       "      <td>No</td>\n",
       "      <td>Normal weight (18.5 &lt;= BMI &lt; 25.0)</td>\n",
       "      <td>No</td>\n",
       "      <td>No</td>\n",
       "      <td>No</td>\n",
       "      <td>0.0</td>\n",
       "      <td>0.0</td>\n",
       "      <td>No</td>\n",
       "      <td>Female</td>\n",
       "      <td>75-79</td>\n",
       "      <td>White</td>\n",
       "      <td>No</td>\n",
       "      <td>No</td>\n",
       "      <td>Good</td>\n",
       "      <td>6.0</td>\n",
       "      <td>No</td>\n",
       "      <td>No</td>\n",
       "      <td>Yes</td>\n",
       "    </tr>\n",
       "    <tr>\n",
       "      <th>8</th>\n",
       "      <td>No</td>\n",
       "      <td>Normal weight (18.5 &lt;= BMI &lt; 25.0)</td>\n",
       "      <td>No</td>\n",
       "      <td>No</td>\n",
       "      <td>No</td>\n",
       "      <td>28.0</td>\n",
       "      <td>0.0</td>\n",
       "      <td>Yes</td>\n",
       "      <td>Female</td>\n",
       "      <td>40-44</td>\n",
       "      <td>White</td>\n",
       "      <td>No</td>\n",
       "      <td>Yes</td>\n",
       "      <td>Very good</td>\n",
       "      <td>8.0</td>\n",
       "      <td>No</td>\n",
       "      <td>No</td>\n",
       "      <td>No</td>\n",
       "    </tr>\n",
       "  </tbody>\n",
       "</table>\n",
       "</div>"
      ],
      "text/plain": [
       "  HeartDisease                         BMICategory Smoking AlcoholDrinking  \\\n",
       "0           No            Underweight (BMI < 18.5)     Yes              No   \n",
       "4           No  Normal weight (18.5 <= BMI < 25.0)      No              No   \n",
       "5           No     Overweight (25.0 <= BMI < 30.0)     Yes              No   \n",
       "6           No  Normal weight (18.5 <= BMI < 25.0)      No              No   \n",
       "8           No  Normal weight (18.5 <= BMI < 25.0)      No              No   \n",
       "\n",
       "  Stroke  PhysicalHealth  MentalHealth DiffWalking     Sex  AgeCategory  \\\n",
       "0     No             3.0          30.0          No  Female        55-59   \n",
       "4    Yes             0.0           0.0          No  Female  80 or older   \n",
       "5     No            20.0          30.0          No    Male        65-69   \n",
       "6     No             0.0           0.0          No  Female        75-79   \n",
       "8     No            28.0           0.0         Yes  Female        40-44   \n",
       "\n",
       "    Race Diabetic PhysicalActivity  GenHealth  SleepTime Asthma KidneyDisease  \\\n",
       "0  White      Yes              Yes  Very good        5.0    Yes            No   \n",
       "4  White       No              Yes  Very good        7.0     No            No   \n",
       "5  White      Yes              Yes       Fair        8.0    Yes            No   \n",
       "6  White       No               No       Good        6.0     No            No   \n",
       "8  White       No              Yes  Very good        8.0     No            No   \n",
       "\n",
       "  SkinCancer  \n",
       "0        Yes  \n",
       "4         No  \n",
       "5         No  \n",
       "6        Yes  \n",
       "8         No  "
      ]
     },
     "execution_count": 42,
     "metadata": {},
     "output_type": "execute_result"
    }
   ],
   "source": [
    "heart_final.head()"
   ]
  },
  {
   "cell_type": "code",
   "execution_count": 41,
   "id": "47ad5512",
   "metadata": {},
   "outputs": [
    {
     "data": {
      "text/plain": [
       "(319795, 18)"
      ]
     },
     "execution_count": 41,
     "metadata": {},
     "output_type": "execute_result"
    }
   ],
   "source": [
    "heart_final.shape"
   ]
  },
  {
   "cell_type": "code",
   "execution_count": 40,
   "id": "d896d0e8",
   "metadata": {},
   "outputs": [],
   "source": [
    "heart_final.to_csv(WRITE_PATH, encoding=\"UTF-8\", index=False)"
   ]
  }
 ],
 "metadata": {
  "kernelspec": {
   "display_name": "heart-disease-prediction",
   "language": "python",
   "name": "heart-disease-prediction"
  },
  "language_info": {
   "codemirror_mode": {
    "name": "ipython",
    "version": 3
   },
   "file_extension": ".py",
   "mimetype": "text/x-python",
   "name": "python",
   "nbconvert_exporter": "python",
   "pygments_lexer": "ipython3",
   "version": "3.9.7"
  }
 },
 "nbformat": 4,
 "nbformat_minor": 5
}
